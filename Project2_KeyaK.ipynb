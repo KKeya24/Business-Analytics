{
 "cells": [
  {
   "cell_type": "markdown",
   "id": "7ec9e1fd-7454-4aa3-ba86-49379e42399c",
   "metadata": {},
   "source": [
    "# Financial Complaint Dispute Prediction Model Report\n",
    "## Introduction\n",
    "The Consumer Financial Protection Bureau (CFPB) is a U.S. government agency that makes sure financial companies treat their customers fairly. Their website allows customers of financial services to file complaints against financial companies and banks against unfair treatment if these companies are unable to resolve complaints to the customer’s satisfaction.\n",
    " \n",
    "When customers choose to complain to the CFPB, financial companies incur additional costs to resolve such complaints.\n",
    "\n",
    "On receipt, the CFPB routes complaints to the financial companies, who generally respond to the consumer within 15 days.  Once a response is provided, one of two things can happen:\n",
    "\n",
    "1.In most cases, consumers accept the response or remediation offered by the financial companies, \n",
    "2.In other cases, they choose to dispute the resolution offered by the company.  (flagged in the 'Consumer disputed?' field).  In these situations, the bank has to perform additional investigations, and possibly offer further relief to the customers.  As a result, the cost of dealing with disputes can be high.\n",
    "\n",
    "The original dataset for this project has over 2 million anonymized recent records, and covers 6000+ financial providers of all varieties available at https://www.consumerfinance.gov/data-research/consumer-complaints/.  The website also provides additional information on the data, including the data dictionary.  \n",
    "\n",
    "For this project, I am using only the data till 2017, and only for the top 5 banks in the US. \n",
    "\n",
    "The cost structure:\n",
    "\n",
    "1.On average, it costs the banks $100 to resolve, respond to and close a complaint that is not disputed.  \n",
    "\n",
    "2.On the other hand, it costs banks an extra $500 to resolve a complaint if it has been disputed.\n",
    "\n",
    "3.Extra diligence: If the banks know in advance which complaints will be disputed, they can perform “extra diligence” during the first round of addressing the complaint with a view to avoiding eventual disputes.  Performing extra diligence costs $90 per complaint, and provides a guarantee that the customer will not dispute the complaint.  But performing the extra diligence is wasted money if the customer would not have disputed the complaint.\n",
    "\n",
    "In this notebook I am developing a model to predict whether a financial complaint will be disputed by a consumer. This report details my approach, which includes data exploration, model training with XGBoost, evaluation, and cost analysis. "
   ]
  },
  {
   "cell_type": "markdown",
   "id": "faeb976a-53d8-4264-87b3-c575ffa6c652",
   "metadata": {},
   "source": [
    "## Data Exploration and Preprocessing"
   ]
  },
  {
   "cell_type": "markdown",
   "id": "a223a540-322e-481c-bdf7-7dfc665217f5",
   "metadata": {},
   "source": [
    "### 1.EDA\n",
    "I began by conducting exploratory data analysis (EDA) to understand the fields within our dataset. This preliminary step was crucial in gaining insights into the nature of the complaints and preparing for effective model training."
   ]
  },
  {
   "cell_type": "code",
   "execution_count": 1,
   "id": "d5f2531e-c62b-4a86-ab26-74e0790ea93f",
   "metadata": {
    "tags": []
   },
   "outputs": [],
   "source": [
    "#importing the required libraries\n",
    "import numpy as np\n",
    "import pandas as pd\n",
    "import matplotlib.pyplot as plt\n",
    "from sklearn import preprocessing\n",
    "\n",
    "\n",
    "from sklearn.preprocessing import StandardScaler, LabelEncoder\n",
    "from sklearn.model_selection import train_test_split\n",
    "from imblearn.under_sampling import RandomUnderSampler\n",
    "from xgboost import XGBClassifier\n",
    "from sklearn.metrics import classification_report, confusion_matrix, ConfusionMatrixDisplay\n",
    "from sklearn.metrics import precision_recall_curve\n"
   ]
  },
  {
   "cell_type": "code",
   "execution_count": 2,
   "id": "d08e57c6-01e9-49bb-b848-acf3467cc9a0",
   "metadata": {
    "tags": []
   },
   "outputs": [
    {
     "data": {
      "text/html": [
       "<div>\n",
       "<style scoped>\n",
       "    .dataframe tbody tr th:only-of-type {\n",
       "        vertical-align: middle;\n",
       "    }\n",
       "\n",
       "    .dataframe tbody tr th {\n",
       "        vertical-align: top;\n",
       "    }\n",
       "\n",
       "    .dataframe thead th {\n",
       "        text-align: right;\n",
       "    }\n",
       "</style>\n",
       "<table border=\"1\" class=\"dataframe\">\n",
       "  <thead>\n",
       "    <tr style=\"text-align: right;\">\n",
       "      <th></th>\n",
       "      <th>Date received</th>\n",
       "      <th>Product</th>\n",
       "      <th>Sub-product</th>\n",
       "      <th>Issue</th>\n",
       "      <th>Sub-issue</th>\n",
       "      <th>Consumer complaint narrative</th>\n",
       "      <th>Company public response</th>\n",
       "      <th>Company</th>\n",
       "      <th>State</th>\n",
       "      <th>ZIP code</th>\n",
       "      <th>Tags</th>\n",
       "      <th>Consumer consent provided?</th>\n",
       "      <th>Submitted via</th>\n",
       "      <th>Date sent to company</th>\n",
       "      <th>Company response to consumer</th>\n",
       "      <th>Timely response?</th>\n",
       "      <th>Consumer disputed?</th>\n",
       "      <th>Complaint ID</th>\n",
       "    </tr>\n",
       "  </thead>\n",
       "  <tbody>\n",
       "    <tr>\n",
       "      <th>0</th>\n",
       "      <td>2016-10-26</td>\n",
       "      <td>Money transfers</td>\n",
       "      <td>International money transfer</td>\n",
       "      <td>Other transaction issues</td>\n",
       "      <td>Unknown</td>\n",
       "      <td>To whom it concerns, I would like to file a fo...</td>\n",
       "      <td>Company has responded to the consumer and the ...</td>\n",
       "      <td>CITIBANK, N.A.</td>\n",
       "      <td>Unknown</td>\n",
       "      <td>Unknown</td>\n",
       "      <td>Unknown</td>\n",
       "      <td>Consent provided</td>\n",
       "      <td>Web</td>\n",
       "      <td>2016-10-29</td>\n",
       "      <td>Closed with explanation</td>\n",
       "      <td>Yes</td>\n",
       "      <td>No</td>\n",
       "      <td>2180490</td>\n",
       "    </tr>\n",
       "    <tr>\n",
       "      <th>1</th>\n",
       "      <td>2015-03-27</td>\n",
       "      <td>Bank account or service</td>\n",
       "      <td>Other bank product/service</td>\n",
       "      <td>Account opening, closing, or management</td>\n",
       "      <td>Unknown</td>\n",
       "      <td>My name is XXXX XXXX XXXX and huband name is X...</td>\n",
       "      <td>Company chooses not to provide a public response</td>\n",
       "      <td>CITIBANK, N.A.</td>\n",
       "      <td>PA</td>\n",
       "      <td>151XX</td>\n",
       "      <td>Older American</td>\n",
       "      <td>Consent provided</td>\n",
       "      <td>Web</td>\n",
       "      <td>2015-03-27</td>\n",
       "      <td>Closed with explanation</td>\n",
       "      <td>Yes</td>\n",
       "      <td>No</td>\n",
       "      <td>1305453</td>\n",
       "    </tr>\n",
       "    <tr>\n",
       "      <th>2</th>\n",
       "      <td>2015-04-20</td>\n",
       "      <td>Bank account or service</td>\n",
       "      <td>Other bank product/service</td>\n",
       "      <td>Making/receiving payments, sending money</td>\n",
       "      <td>Unknown</td>\n",
       "      <td>XXXX 2015 : I called to make a payment on XXXX...</td>\n",
       "      <td>Company chooses not to provide a public response</td>\n",
       "      <td>U.S. BANCORP</td>\n",
       "      <td>PA</td>\n",
       "      <td>152XX</td>\n",
       "      <td>Unknown</td>\n",
       "      <td>Consent provided</td>\n",
       "      <td>Web</td>\n",
       "      <td>2015-04-22</td>\n",
       "      <td>Closed with monetary relief</td>\n",
       "      <td>Yes</td>\n",
       "      <td>No</td>\n",
       "      <td>1337613</td>\n",
       "    </tr>\n",
       "    <tr>\n",
       "      <th>3</th>\n",
       "      <td>2013-04-29</td>\n",
       "      <td>Mortgage</td>\n",
       "      <td>Conventional fixed mortgage</td>\n",
       "      <td>Application, originator, mortgage broker</td>\n",
       "      <td>Unknown</td>\n",
       "      <td>Unknown</td>\n",
       "      <td>Unknown</td>\n",
       "      <td>JPMORGAN CHASE &amp; CO.</td>\n",
       "      <td>VA</td>\n",
       "      <td>22406</td>\n",
       "      <td>Servicemember</td>\n",
       "      <td>Unknown</td>\n",
       "      <td>Phone</td>\n",
       "      <td>2013-04-30</td>\n",
       "      <td>Closed with explanation</td>\n",
       "      <td>Yes</td>\n",
       "      <td>Yes</td>\n",
       "      <td>393900</td>\n",
       "    </tr>\n",
       "    <tr>\n",
       "      <th>4</th>\n",
       "      <td>2013-05-29</td>\n",
       "      <td>Mortgage</td>\n",
       "      <td>Other mortgage</td>\n",
       "      <td>Loan modification,collection,foreclosure</td>\n",
       "      <td>Unknown</td>\n",
       "      <td>Unknown</td>\n",
       "      <td>Unknown</td>\n",
       "      <td>BANK OF AMERICA, NATIONAL ASSOCIATION</td>\n",
       "      <td>GA</td>\n",
       "      <td>30044</td>\n",
       "      <td>Unknown</td>\n",
       "      <td>Unknown</td>\n",
       "      <td>Referral</td>\n",
       "      <td>2013-05-31</td>\n",
       "      <td>Closed with explanation</td>\n",
       "      <td>Yes</td>\n",
       "      <td>No</td>\n",
       "      <td>418647</td>\n",
       "    </tr>\n",
       "    <tr>\n",
       "      <th>...</th>\n",
       "      <td>...</td>\n",
       "      <td>...</td>\n",
       "      <td>...</td>\n",
       "      <td>...</td>\n",
       "      <td>...</td>\n",
       "      <td>...</td>\n",
       "      <td>...</td>\n",
       "      <td>...</td>\n",
       "      <td>...</td>\n",
       "      <td>...</td>\n",
       "      <td>...</td>\n",
       "      <td>...</td>\n",
       "      <td>...</td>\n",
       "      <td>...</td>\n",
       "      <td>...</td>\n",
       "      <td>...</td>\n",
       "      <td>...</td>\n",
       "      <td>...</td>\n",
       "    </tr>\n",
       "    <tr>\n",
       "      <th>207255</th>\n",
       "      <td>2015-05-24</td>\n",
       "      <td>Debt collection</td>\n",
       "      <td>Credit card</td>\n",
       "      <td>Taking/threatening an illegal action</td>\n",
       "      <td>Sued w/o proper notification of suit</td>\n",
       "      <td>Unknown</td>\n",
       "      <td>Unknown</td>\n",
       "      <td>JPMORGAN CHASE &amp; CO.</td>\n",
       "      <td>FL</td>\n",
       "      <td>33133</td>\n",
       "      <td>Unknown</td>\n",
       "      <td>Consent not provided</td>\n",
       "      <td>Web</td>\n",
       "      <td>2015-05-24</td>\n",
       "      <td>Closed with explanation</td>\n",
       "      <td>Yes</td>\n",
       "      <td>No</td>\n",
       "      <td>1390395</td>\n",
       "    </tr>\n",
       "    <tr>\n",
       "      <th>207256</th>\n",
       "      <td>2012-01-10</td>\n",
       "      <td>Mortgage</td>\n",
       "      <td>Conventional fixed mortgage</td>\n",
       "      <td>Loan modification,collection,foreclosure</td>\n",
       "      <td>Unknown</td>\n",
       "      <td>Unknown</td>\n",
       "      <td>Unknown</td>\n",
       "      <td>JPMORGAN CHASE &amp; CO.</td>\n",
       "      <td>NY</td>\n",
       "      <td>10312</td>\n",
       "      <td>Unknown</td>\n",
       "      <td>Unknown</td>\n",
       "      <td>Referral</td>\n",
       "      <td>2012-01-11</td>\n",
       "      <td>Closed without relief</td>\n",
       "      <td>Yes</td>\n",
       "      <td>Yes</td>\n",
       "      <td>12192</td>\n",
       "    </tr>\n",
       "    <tr>\n",
       "      <th>207257</th>\n",
       "      <td>2012-07-17</td>\n",
       "      <td>Student loan</td>\n",
       "      <td>Non-federal student loan</td>\n",
       "      <td>Repaying your loan</td>\n",
       "      <td>Unknown</td>\n",
       "      <td>Unknown</td>\n",
       "      <td>Unknown</td>\n",
       "      <td>BANK OF AMERICA, NATIONAL ASSOCIATION</td>\n",
       "      <td>NH</td>\n",
       "      <td>032XX</td>\n",
       "      <td>Unknown</td>\n",
       "      <td>Unknown</td>\n",
       "      <td>Web</td>\n",
       "      <td>2012-07-18</td>\n",
       "      <td>Closed with explanation</td>\n",
       "      <td>Yes</td>\n",
       "      <td>No</td>\n",
       "      <td>118351</td>\n",
       "    </tr>\n",
       "    <tr>\n",
       "      <th>207258</th>\n",
       "      <td>2016-09-29</td>\n",
       "      <td>Bank account or service</td>\n",
       "      <td>Checking account</td>\n",
       "      <td>Account opening, closing, or management</td>\n",
       "      <td>Unknown</td>\n",
       "      <td>Near the end of XXXX 2016 I opened a Citigold ...</td>\n",
       "      <td>Company has responded to the consumer and the ...</td>\n",
       "      <td>CITIBANK, N.A.</td>\n",
       "      <td>CA</td>\n",
       "      <td>900XX</td>\n",
       "      <td>Unknown</td>\n",
       "      <td>Consent provided</td>\n",
       "      <td>Web</td>\n",
       "      <td>2016-09-29</td>\n",
       "      <td>Closed with non-monetary relief</td>\n",
       "      <td>Yes</td>\n",
       "      <td>No</td>\n",
       "      <td>2138969</td>\n",
       "    </tr>\n",
       "    <tr>\n",
       "      <th>207259</th>\n",
       "      <td>2015-04-29</td>\n",
       "      <td>Mortgage</td>\n",
       "      <td>Conventional fixed mortgage</td>\n",
       "      <td>Loan modification,collection,foreclosure</td>\n",
       "      <td>Unknown</td>\n",
       "      <td>My father died in XX/XX/XXXX. Left me his only...</td>\n",
       "      <td>Unknown</td>\n",
       "      <td>CITIBANK, N.A.</td>\n",
       "      <td>OK</td>\n",
       "      <td>740XX</td>\n",
       "      <td>Unknown</td>\n",
       "      <td>Consent provided</td>\n",
       "      <td>Web</td>\n",
       "      <td>2015-04-29</td>\n",
       "      <td>Closed with explanation</td>\n",
       "      <td>Yes</td>\n",
       "      <td>No</td>\n",
       "      <td>1352738</td>\n",
       "    </tr>\n",
       "  </tbody>\n",
       "</table>\n",
       "<p>207260 rows × 18 columns</p>\n",
       "</div>"
      ],
      "text/plain": [
       "       Date received                  Product                   Sub-product  \\\n",
       "0         2016-10-26          Money transfers  International money transfer   \n",
       "1         2015-03-27  Bank account or service    Other bank product/service   \n",
       "2         2015-04-20  Bank account or service    Other bank product/service   \n",
       "3         2013-04-29                 Mortgage   Conventional fixed mortgage   \n",
       "4         2013-05-29                 Mortgage                Other mortgage   \n",
       "...              ...                      ...                           ...   \n",
       "207255    2015-05-24          Debt collection                   Credit card   \n",
       "207256    2012-01-10                 Mortgage   Conventional fixed mortgage   \n",
       "207257    2012-07-17             Student loan      Non-federal student loan   \n",
       "207258    2016-09-29  Bank account or service              Checking account   \n",
       "207259    2015-04-29                 Mortgage   Conventional fixed mortgage   \n",
       "\n",
       "                                           Issue  \\\n",
       "0                       Other transaction issues   \n",
       "1        Account opening, closing, or management   \n",
       "2       Making/receiving payments, sending money   \n",
       "3       Application, originator, mortgage broker   \n",
       "4       Loan modification,collection,foreclosure   \n",
       "...                                          ...   \n",
       "207255      Taking/threatening an illegal action   \n",
       "207256  Loan modification,collection,foreclosure   \n",
       "207257                        Repaying your loan   \n",
       "207258   Account opening, closing, or management   \n",
       "207259  Loan modification,collection,foreclosure   \n",
       "\n",
       "                                   Sub-issue  \\\n",
       "0                                    Unknown   \n",
       "1                                    Unknown   \n",
       "2                                    Unknown   \n",
       "3                                    Unknown   \n",
       "4                                    Unknown   \n",
       "...                                      ...   \n",
       "207255  Sued w/o proper notification of suit   \n",
       "207256                               Unknown   \n",
       "207257                               Unknown   \n",
       "207258                               Unknown   \n",
       "207259                               Unknown   \n",
       "\n",
       "                             Consumer complaint narrative  \\\n",
       "0       To whom it concerns, I would like to file a fo...   \n",
       "1       My name is XXXX XXXX XXXX and huband name is X...   \n",
       "2       XXXX 2015 : I called to make a payment on XXXX...   \n",
       "3                                                 Unknown   \n",
       "4                                                 Unknown   \n",
       "...                                                   ...   \n",
       "207255                                            Unknown   \n",
       "207256                                            Unknown   \n",
       "207257                                            Unknown   \n",
       "207258  Near the end of XXXX 2016 I opened a Citigold ...   \n",
       "207259  My father died in XX/XX/XXXX. Left me his only...   \n",
       "\n",
       "                                  Company public response  \\\n",
       "0       Company has responded to the consumer and the ...   \n",
       "1        Company chooses not to provide a public response   \n",
       "2        Company chooses not to provide a public response   \n",
       "3                                                 Unknown   \n",
       "4                                                 Unknown   \n",
       "...                                                   ...   \n",
       "207255                                            Unknown   \n",
       "207256                                            Unknown   \n",
       "207257                                            Unknown   \n",
       "207258  Company has responded to the consumer and the ...   \n",
       "207259                                            Unknown   \n",
       "\n",
       "                                      Company    State ZIP code  \\\n",
       "0                              CITIBANK, N.A.  Unknown  Unknown   \n",
       "1                              CITIBANK, N.A.       PA    151XX   \n",
       "2                                U.S. BANCORP       PA    152XX   \n",
       "3                        JPMORGAN CHASE & CO.       VA    22406   \n",
       "4       BANK OF AMERICA, NATIONAL ASSOCIATION       GA    30044   \n",
       "...                                       ...      ...      ...   \n",
       "207255                   JPMORGAN CHASE & CO.       FL    33133   \n",
       "207256                   JPMORGAN CHASE & CO.       NY    10312   \n",
       "207257  BANK OF AMERICA, NATIONAL ASSOCIATION       NH    032XX   \n",
       "207258                         CITIBANK, N.A.       CA    900XX   \n",
       "207259                         CITIBANK, N.A.       OK    740XX   \n",
       "\n",
       "                  Tags Consumer consent provided? Submitted via  \\\n",
       "0              Unknown           Consent provided           Web   \n",
       "1       Older American           Consent provided           Web   \n",
       "2              Unknown           Consent provided           Web   \n",
       "3        Servicemember                    Unknown         Phone   \n",
       "4              Unknown                    Unknown      Referral   \n",
       "...                ...                        ...           ...   \n",
       "207255         Unknown       Consent not provided           Web   \n",
       "207256         Unknown                    Unknown      Referral   \n",
       "207257         Unknown                    Unknown           Web   \n",
       "207258         Unknown           Consent provided           Web   \n",
       "207259         Unknown           Consent provided           Web   \n",
       "\n",
       "       Date sent to company     Company response to consumer Timely response?  \\\n",
       "0                2016-10-29          Closed with explanation              Yes   \n",
       "1                2015-03-27          Closed with explanation              Yes   \n",
       "2                2015-04-22      Closed with monetary relief              Yes   \n",
       "3                2013-04-30          Closed with explanation              Yes   \n",
       "4                2013-05-31          Closed with explanation              Yes   \n",
       "...                     ...                              ...              ...   \n",
       "207255           2015-05-24          Closed with explanation              Yes   \n",
       "207256           2012-01-11            Closed without relief              Yes   \n",
       "207257           2012-07-18          Closed with explanation              Yes   \n",
       "207258           2016-09-29  Closed with non-monetary relief              Yes   \n",
       "207259           2015-04-29          Closed with explanation              Yes   \n",
       "\n",
       "       Consumer disputed?  Complaint ID  \n",
       "0                      No       2180490  \n",
       "1                      No       1305453  \n",
       "2                      No       1337613  \n",
       "3                     Yes        393900  \n",
       "4                      No        418647  \n",
       "...                   ...           ...  \n",
       "207255                 No       1390395  \n",
       "207256                Yes         12192  \n",
       "207257                 No        118351  \n",
       "207258                 No       2138969  \n",
       "207259                 No       1352738  \n",
       "\n",
       "[207260 rows x 18 columns]"
      ]
     },
     "execution_count": 2,
     "metadata": {},
     "output_type": "execute_result"
    }
   ],
   "source": [
    "# Loading the data and general information\n",
    "data = pd.read_csv('shared/complaints_25Nov21.csv')\n",
    "\n",
    "# Fill for missing values\n",
    "data.fillna('Unknown', inplace=True)\n",
    "data"
   ]
  },
  {
   "cell_type": "code",
   "execution_count": 3,
   "id": "53ac4777-7929-4bd7-b28b-316e06b629dc",
   "metadata": {
    "tags": []
   },
   "outputs": [
    {
     "data": {
      "image/png": "[encoded data removed]",
      "text/plain": [
       "<Figure size 800x500 with 1 Axes>"
      ]
     },
     "metadata": {},
     "output_type": "display_data"
    }
   ],
   "source": [
    "# Count the number of complaints for each bank\n",
    "complaint_counts = data['Company'].value_counts()\n",
    "\n",
    "# Create a histogram\n",
    "plt.figure(figsize=(8, 5))\n",
    "bars = plt.bar(complaint_counts.index,complaint_counts.values, color=\"orange\")\n",
    "plt.xlabel(\"Company\")\n",
    "plt.ylabel(\"Number of Complaints\")\n",
    "plt.title(\"Histogram of Number of Complaints in Companies\")\n",
    "plt.xticks(complaint_counts.index)\n",
    "plt.xticks(rotation=270)\n",
    "plt.grid(axis=\"y\", linestyle=\"--\", alpha=0.7)\n",
    "\n",
    "# Annotate each bar with its count\n",
    "for bar in bars:\n",
    "    height = bar.get_height()\n",
    "    plt.annotate(\n",
    "        f\"{int(height)}\",  # Format the count as an integer\n",
    "        xy=(bar.get_x() + bar.get_width() / 2, height),\n",
    "        xytext=(0, 3),  # 3 points vertical offset for better placement\n",
    "        textcoords=\"offset points\",\n",
    "        ha=\"center\",\n",
    "    )\n",
    "\n",
    "plt.show()\n",
    "\n"
   ]
  },
  {
   "cell_type": "markdown",
   "id": "1418a5a2-2afc-48b1-b7c8-6a1f0fad1561",
   "metadata": {},
   "source": [
    "### 2.Variable Selection and Encoding\n",
    "Defining the predictor X and predicted y variables, limiting the predictors to the few specific fields:"
   ]
  },
  {
   "cell_type": "code",
   "execution_count": 4,
   "id": "48f80986-6875-46db-9537-1c51faf3049f",
   "metadata": {
    "tags": []
   },
   "outputs": [],
   "source": [
    "# Predictor variables\n",
    "X = data[['Product', 'Sub-product', 'Issue', 'State', 'Tags', 'Submitted via', 'Company response to consumer', 'Timely response?']]\n",
    "\n",
    "# Convert categorical variables to dummy variables\n",
    "X = pd.get_dummies(X)\n",
    "\n",
    "# Predicted variable using LabelEncoder for binary classification\n",
    "le = LabelEncoder()\n",
    "y = le.fit_transform(data['Consumer disputed?'])\n"
   ]
  },
  {
   "cell_type": "markdown",
   "id": "1f462800-198f-45c0-bb80-99a16f1ec535",
   "metadata": {},
   "source": [
    "### 3.Train-Test Split\n",
    "Following the variable selection and encoding, I split the data into training and testing sets with an 80/20 ratio and a random_state for reproducibility:"
   ]
  },
  {
   "cell_type": "code",
   "execution_count": 5,
   "id": "7d53b6f0-619d-47c9-8472-50a134d2ea56",
   "metadata": {
    "tags": []
   },
   "outputs": [],
   "source": [
    "# Splitting the dataset into the Training set and Test set\n",
    "X_train, X_test, y_train, y_test = train_test_split(X, y, test_size=0.2, random_state=123)\n"
   ]
  },
  {
   "cell_type": "markdown",
   "id": "cde538fc-8e19-4449-bc99-29b38d9dadca",
   "metadata": {},
   "source": [
    "### 4.Balancing the Dataset\n",
    "Before proceeding to model training, I checked the balance of our classes:"
   ]
  },
  {
   "cell_type": "code",
   "execution_count": 6,
   "id": "c8bd6c7b-7522-4c48-83b0-7cb3e94add23",
   "metadata": {
    "tags": []
   },
   "outputs": [
    {
     "name": "stdout",
     "output_type": "stream",
     "text": [
      "Proportion of disputed complaints in training set: 21.68%\n",
      "Proportion of disputed complaints in Test set: 21.59%\n"
     ]
    }
   ],
   "source": [
    "# Class balance check\n",
    "print(f\"Proportion of disputed complaints in training set: {y_train.mean() * 100:.2f}%\")\n",
    "print(f\"Proportion of disputed complaints in Test set: {y_test.mean() * 100:.2f}%\")"
   ]
  },
  {
   "cell_type": "markdown",
   "id": "eaf90617-4822-4b61-87f9-6d00b87953ee",
   "metadata": {},
   "source": [
    "If the proportion was found to be less than 30%, I would balance the dataset using random undersampling:"
   ]
  },
  {
   "cell_type": "code",
   "execution_count": 7,
   "id": "e4e8a474-aa9a-475d-a0d4-73d4537eb620",
   "metadata": {
    "tags": []
   },
   "outputs": [
    {
     "name": "stdout",
     "output_type": "stream",
     "text": [
      "Proportion of disputed complaints in training set: 50.00%\n"
     ]
    }
   ],
   "source": [
    "# Balancing the training dataset\n",
    "undersampler = RandomUnderSampler(random_state=123)\n",
    "X_train, y_train = undersampler.fit_resample(X_train, y_train)\n",
    "print(f\"Proportion of disputed complaints in training set: {y_train.mean() * 100:.2f}%\")"
   ]
  },
  {
   "cell_type": "markdown",
   "id": "a8aa69af-16ce-4af8-a4ee-16b601fa0f9f",
   "metadata": {},
   "source": [
    "## Model Training\n",
    "### 5.Initialize and train the mdoel\n",
    "For model training, I chose the XGBoost classifier due to its performance in handling imbalanced datasets:"
   ]
  },
  {
   "cell_type": "code",
   "execution_count": 8,
   "id": "0b0ed58d-e08b-4c94-8458-3d189230b78c",
   "metadata": {
    "tags": []
   },
   "outputs": [
    {
     "data": {
      "text/html": [
       "<style>#sk-container-id-1 {color: black;}#sk-container-id-1 pre{padding: 0;}#sk-container-id-1 div.sk-toggleable {background-color: white;}#sk-container-id-1 label.sk-toggleable__label {cursor: pointer;display: block;width: 100%;margin-bottom: 0;padding: 0.3em;box-sizing: border-box;text-align: center;}#sk-container-id-1 label.sk-toggleable__label-arrow:before {content: \"▸\";float: left;margin-right: 0.25em;color: #696969;}#sk-container-id-1 label.sk-toggleable__label-arrow:hover:before {color: black;}#sk-container-id-1 div.sk-estimator:hover label.sk-toggleable__label-arrow:before {color: black;}#sk-container-id-1 div.sk-toggleable__content {max-height: 0;max-width: 0;overflow: hidden;text-align: left;background-color: #f0f8ff;}#sk-container-id-1 div.sk-toggleable__content pre {margin: 0.2em;color: black;border-radius: 0.25em;background-color: #f0f8ff;}#sk-container-id-1 input.sk-toggleable__control:checked~div.sk-toggleable__content {max-height: 200px;max-width: 100%;overflow: auto;}#sk-container-id-1 input.sk-toggleable__control:checked~label.sk-toggleable__label-arrow:before {content: \"▾\";}#sk-container-id-1 div.sk-estimator input.sk-toggleable__control:checked~label.sk-toggleable__label {background-color: #d4ebff;}#sk-container-id-1 div.sk-label input.sk-toggleable__control:checked~label.sk-toggleable__label {background-color: #d4ebff;}#sk-container-id-1 input.sk-hidden--visually {border: 0;clip: rect(1px 1px 1px 1px);clip: rect(1px, 1px, 1px, 1px);height: 1px;margin: -1px;overflow: hidden;padding: 0;position: absolute;width: 1px;}#sk-container-id-1 div.sk-estimator {font-family: monospace;background-color: #f0f8ff;border: 1px dotted black;border-radius: 0.25em;box-sizing: border-box;margin-bottom: 0.5em;}#sk-container-id-1 div.sk-estimator:hover {background-color: #d4ebff;}#sk-container-id-1 div.sk-parallel-item::after {content: \"\";width: 100%;border-bottom: 1px solid gray;flex-grow: 1;}#sk-container-id-1 div.sk-label:hover label.sk-toggleable__label {background-color: #d4ebff;}#sk-container-id-1 div.sk-serial::before {content: \"\";position: absolute;border-left: 1px solid gray;box-sizing: border-box;top: 0;bottom: 0;left: 50%;z-index: 0;}#sk-container-id-1 div.sk-serial {display: flex;flex-direction: column;align-items: center;background-color: white;padding-right: 0.2em;padding-left: 0.2em;position: relative;}#sk-container-id-1 div.sk-item {position: relative;z-index: 1;}#sk-container-id-1 div.sk-parallel {display: flex;align-items: stretch;justify-content: center;background-color: white;position: relative;}#sk-container-id-1 div.sk-item::before, #sk-container-id-1 div.sk-parallel-item::before {content: \"\";position: absolute;border-left: 1px solid gray;box-sizing: border-box;top: 0;bottom: 0;left: 50%;z-index: -1;}#sk-container-id-1 div.sk-parallel-item {display: flex;flex-direction: column;z-index: 1;position: relative;background-color: white;}#sk-container-id-1 div.sk-parallel-item:first-child::after {align-self: flex-end;width: 50%;}#sk-container-id-1 div.sk-parallel-item:last-child::after {align-self: flex-start;width: 50%;}#sk-container-id-1 div.sk-parallel-item:only-child::after {width: 0;}#sk-container-id-1 div.sk-dashed-wrapped {border: 1px dashed gray;margin: 0 0.4em 0.5em 0.4em;box-sizing: border-box;padding-bottom: 0.4em;background-color: white;}#sk-container-id-1 div.sk-label label {font-family: monospace;font-weight: bold;display: inline-block;line-height: 1.2em;}#sk-container-id-1 div.sk-label-container {text-align: center;}#sk-container-id-1 div.sk-container {/* jupyter's `normalize.less` sets `[hidden] { display: none; }` but bootstrap.min.css set `[hidden] { display: none !important; }` so we also need the `!important` here to be able to override the default hidden behavior on the sphinx rendered scikit-learn.org. See: https://github.com/scikit-learn/scikit-learn/issues/21755 */display: inline-block !important;position: relative;}#sk-container-id-1 div.sk-text-repr-fallback {display: none;}</style><div id=\"sk-container-id-1\" class=\"sk-top-container\"><div class=\"sk-text-repr-fallback\"><pre>XGBClassifier(base_score=None, booster=None, callbacks=None,\n",
       "              colsample_bylevel=None, colsample_bynode=None,\n",
       "              colsample_bytree=None, early_stopping_rounds=None,\n",
       "              enable_categorical=False, eval_metric=None, feature_types=None,\n",
       "              gamma=None, gpu_id=None, grow_policy=None, importance_type=None,\n",
       "              interaction_constraints=None, learning_rate=None, max_bin=None,\n",
       "              max_cat_threshold=None, max_cat_to_onehot=None,\n",
       "              max_delta_step=None, max_depth=None, max_leaves=None,\n",
       "              min_child_weight=None, missing=nan, monotone_constraints=None,\n",
       "              n_estimators=100, n_jobs=None, num_parallel_tree=None,\n",
       "              predictor=None, random_state=123, ...)</pre><b>In a Jupyter environment, please rerun this cell to show the HTML representation or trust the notebook. <br />On GitHub, the HTML representation is unable to render, please try loading this page with nbviewer.org.</b></div><div class=\"sk-container\" hidden><div class=\"sk-item\"><div class=\"sk-estimator sk-toggleable\"><input class=\"sk-toggleable__control sk-hidden--visually\" id=\"sk-estimator-id-1\" type=\"checkbox\" checked><label for=\"sk-estimator-id-1\" class=\"sk-toggleable__label sk-toggleable__label-arrow\">XGBClassifier</label><div class=\"sk-toggleable__content\"><pre>XGBClassifier(base_score=None, booster=None, callbacks=None,\n",
       "              colsample_bylevel=None, colsample_bynode=None,\n",
       "              colsample_bytree=None, early_stopping_rounds=None,\n",
       "              enable_categorical=False, eval_metric=None, feature_types=None,\n",
       "              gamma=None, gpu_id=None, grow_policy=None, importance_type=None,\n",
       "              interaction_constraints=None, learning_rate=None, max_bin=None,\n",
       "              max_cat_threshold=None, max_cat_to_onehot=None,\n",
       "              max_delta_step=None, max_depth=None, max_leaves=None,\n",
       "              min_child_weight=None, missing=nan, monotone_constraints=None,\n",
       "              n_estimators=100, n_jobs=None, num_parallel_tree=None,\n",
       "              predictor=None, random_state=123, ...)</pre></div></div></div></div></div>"
      ],
      "text/plain": [
       "XGBClassifier(base_score=None, booster=None, callbacks=None,\n",
       "              colsample_bylevel=None, colsample_bynode=None,\n",
       "              colsample_bytree=None, early_stopping_rounds=None,\n",
       "              enable_categorical=False, eval_metric=None, feature_types=None,\n",
       "              gamma=None, gpu_id=None, grow_policy=None, importance_type=None,\n",
       "              interaction_constraints=None, learning_rate=None, max_bin=None,\n",
       "              max_cat_threshold=None, max_cat_to_onehot=None,\n",
       "              max_delta_step=None, max_depth=None, max_leaves=None,\n",
       "              min_child_weight=None, missing=nan, monotone_constraints=None,\n",
       "              n_estimators=100, n_jobs=None, num_parallel_tree=None,\n",
       "              predictor=None, random_state=123, ...)"
      ]
     },
     "execution_count": 8,
     "metadata": {},
     "output_type": "execute_result"
    }
   ],
   "source": [
    "# Training the XGBoost Classifier\n",
    "model_xgb = XGBClassifier(random_state=123)\n",
    "model_xgb.fit(X_train, y_train)\n"
   ]
  },
  {
   "cell_type": "markdown",
   "id": "9617a98b-9c8e-418b-8b65-9437f7bd7a17",
   "metadata": {},
   "source": [
    "## Model Evaluation\n",
    "### 6.Classification Report and Confusion Matrix\n",
    "After training the model, I evaluated its performance on the test set:"
   ]
  },
  {
   "cell_type": "code",
   "execution_count": 9,
   "id": "b4f114ab-b2f3-4273-b79f-cb22b16ebc23",
   "metadata": {
    "tags": []
   },
   "outputs": [
    {
     "name": "stdout",
     "output_type": "stream",
     "text": [
      "              precision    recall  f1-score   support\n",
      "\n",
      "           0       0.84      0.53      0.65     32504\n",
      "           1       0.27      0.63      0.38      8948\n",
      "\n",
      "    accuracy                           0.55     41452\n",
      "   macro avg       0.55      0.58      0.51     41452\n",
      "weighted avg       0.72      0.55      0.59     41452\n",
      "\n"
     ]
    },
    {
     "data": {
      "image/png": "[encoded data removed]",
      "text/plain": [
       "<Figure size 640x480 with 2 Axes>"
      ]
     },
     "metadata": {},
     "output_type": "display_data"
    }
   ],
   "source": [
    "# Making predictions on the test set\n",
    "y_pred = model_xgb.predict(X_test)\n",
    "\n",
    "# Evaluating the model\n",
    "print(classification_report(y_test, y_pred))\n",
    "\n",
    "#ConfusionMatrixDisplay.from_estimator(model_xgb, X_test, y_test);\n",
    "cm=confusion_matrix(y_test, y_pred)\n",
    "ConfusionMatrixDisplay(confusion_matrix=cm).plot();\n",
    "\n"
   ]
  },
  {
   "cell_type": "markdown",
   "id": "dfe91f00-8e84-4227-991a-1a48f9ab7c40",
   "metadata": {},
   "source": [
    "## Cost Analysis\n",
    "### 7.Base-Case Cost Calculation\n",
    "I established a base-case cost without using the model, which would be essential for comparing the model's value:"
   ]
  },
  {
   "cell_type": "code",
   "execution_count": 10,
   "id": "d8cd0c08-534a-40b5-bde8-f60f36b028ac",
   "metadata": {
    "tags": []
   },
   "outputs": [
    {
     "name": "stdout",
     "output_type": "stream",
     "text": [
      "The base-case cost is: $8619200\n"
     ]
    }
   ],
   "source": [
    "# Base-case cost calculation\n",
    "base_case_cost = (y_test == 1).sum() * 600 + (y_test == 0).sum() * 100\n",
    "print(f\"The base-case cost is: ${base_case_cost}\")"
   ]
  },
  {
   "cell_type": "markdown",
   "id": "9d3130c5-3480-433d-841d-cc5b58beb92c",
   "metadata": {
    "tags": []
   },
   "source": [
    "### 8.Model-Based Cost Calculation\n",
    "Utilizing the confusion matrix results, I calculated the total cost implications based on our model's predictions:"
   ]
  },
  {
   "cell_type": "code",
   "execution_count": 11,
   "id": "fd005205-c725-4590-81f9-c9a1fabf9020",
   "metadata": {
    "tags": []
   },
   "outputs": [
    {
     "name": "stdout",
     "output_type": "stream",
     "text": [
      "The total cost with use of model: $7688180\n"
     ]
    }
   ],
   "source": [
    "# Function to calculate cost from confusion matrix\n",
    "def calculate_cost(confusion_matrix):\n",
    "    # Cost when model predicts dispute and actually disputed\n",
    "    True_NoDispute_Cost = 100 * cm[0, 0]\n",
    "    \n",
    "    # Cost when model predicts dispute and no actual dispute\n",
    "    False_Dispute_Cost = 190 * cm[0,1]\n",
    "    \n",
    "    # Cost when model predicts NoDispute and actually disputed\n",
    "    False_NoDispute_Cost = 600 * cm[1,0]\n",
    "    \n",
    "    # Cost when model predicts NoDispute correctly\n",
    "    True_Dispute_Cost = 190 * cm[1,1]\n",
    "\n",
    "    total_cost = True_NoDispute_Cost + False_Dispute_Cost + False_NoDispute_Cost + True_Dispute_Cost\n",
    "    return total_cost\n",
    "\n",
    "cm = confusion_matrix(y_test, y_pred)\n",
    "total_cost = calculate_cost(cm)\n",
    "print(f\"The total cost with use of model: ${total_cost}\")\n"
   ]
  },
  {
   "cell_type": "markdown",
   "id": "5c3aae7d-da9d-4d14-ae05-65ae232fede2",
   "metadata": {},
   "source": [
    "### 9.Threshold Adjustment for Cost Optimization\n",
    "Lastly, I iterated over different classification thresholds to minimize the total cost:"
   ]
  },
  {
   "cell_type": "code",
   "execution_count": 12,
   "id": "e451b63e-2b8f-488b-a3d5-655bc26416b6",
   "metadata": {
    "tags": []
   },
   "outputs": [
    {
     "name": "stdout",
     "output_type": "stream",
     "text": [
      "The minimum cost at this threshold is: $7615730.0\n",
      "The optimal threshold is: 0.4\n"
     ]
    }
   ],
   "source": [
    "# Predict probabilities for the positive class\n",
    "y_probs = model_xgb.predict_proba(X_test)[:, 1]\n",
    "\n",
    "# Define a function to calculate cost given a threshold\n",
    "def calculate_cost(y_true, y_probs, threshold):\n",
    "    y_pred = (y_probs >= threshold).astype(int)\n",
    "    tn, fp, fn, tp = confusion_matrix(y_true, y_pred).ravel()\n",
    "    \n",
    "    # Calculate the cost based on the given cost matrix\n",
    "    cost = tn*100+ fp * 190 + fn * 600 + tp * 190\n",
    "    return cost\n",
    "\n",
    "# Step 2: Calculate costs for different thresholds and find the optimal one\n",
    "thresholds = np.linspace(0, 1, 21) # using fewer thresholds to speed up the processnp.Here,it would only check thresholds at intervals of 0.05.\n",
    "costs = [calculate_cost(y_test, y_probs, thresh) for thresh in thresholds]\n",
    "\n",
    "# Create a DataFrame from the thresholds and costs\n",
    "cost_df = pd.DataFrame({\n",
    "    'Threshold': thresholds,\n",
    "    'Cost': costs\n",
    "})\n",
    "\n",
    "# Step 3: Find the threshold with the minimum cost\n",
    "min_cost_row = cost_df.loc[cost_df['Cost'].idxmin()]\n",
    "optimal_threshold = min_cost_row['Threshold']\n",
    "minimum_cost = min_cost_row['Cost']\n",
    "\n",
    "print(f\"The minimum cost at this threshold is: ${minimum_cost}\")\n",
    "print(f\"The optimal threshold is: {optimal_threshold}\")\n",
    "\n"
   ]
  },
  {
   "cell_type": "markdown",
   "id": "45ff7ac7-e82c-4111-8a59-31546cd4621a",
   "metadata": {},
   "source": [
    "## Conclusion\n",
    "In conclusion, the developed XGBoost classifier model is expected to help in predicting disputed complaints efficiently. The cost analysis will provide a clear picture of the financial implications of utilizing this predictive model as opposed to a base-case scenario. The optimal threshold for classification has been determined to minimize costs further.\n",
    "\n",
    "\n",
    "\n",
    "\n"
   ]
  },
  {
   "cell_type": "markdown",
   "id": "e389f329-b908-45f1-8928-02694ebdb418",
   "metadata": {},
   "source": [
    "**********************************************\n",
    "## End of Document \n",
    "**********************************************"
   ]
  }
 ],
 "metadata": {
  "kernelspec": {
   "display_name": "Python [conda env:mggy8413]",
   "language": "python",
   "name": "conda-env-mggy8413-py"
  },
  "language_info": {
   "codemirror_mode": {
    "name": "ipython",
    "version": 3
   },
   "file_extension": ".py",
   "mimetype": "text/x-python",
   "name": "python",
   "nbconvert_exporter": "python",
   "pygments_lexer": "ipython3",
   "version": "3.10.12"
  }
 },
 "nbformat": 4,
 "nbformat_minor": 5
}
